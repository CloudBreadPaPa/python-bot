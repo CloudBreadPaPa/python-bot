{
 "metadata": {
  "language_info": {
   "codemirror_mode": {
    "name": "ipython",
    "version": 3
   },
   "file_extension": ".py",
   "mimetype": "text/x-python",
   "name": "python",
   "nbconvert_exporter": "python",
   "pygments_lexer": "ipython3",
   "version": "3.8.8-final"
  },
  "orig_nbformat": 2,
  "kernelspec": {
   "name": "python3",
   "display_name": "Python 3.8.8 64-bit ('python-bot': conda)",
   "metadata": {
    "interpreter": {
     "hash": "de15e17d98a310bd4b4f31d6e6d502040083ba8dc8951091d1f1583004d8ba2f"
    }
   }
  }
 },
 "nbformat": 4,
 "nbformat_minor": 2,
 "cells": [
  {
   "cell_type": "code",
   "execution_count": null,
   "metadata": {},
   "outputs": [],
   "source": [
    "# python qna maker client sdk \n",
    "# https://github.com/Azure-Samples/cognitive-services-quickstart-code/blob/master/python/QnAMaker/sdk/quickstart.py"
   ]
  },
  {
   "cell_type": "code",
   "execution_count": null,
   "metadata": {},
   "outputs": [],
   "source": [
    "# install package\n",
    "# (not working? - notebook info error) pip install azure-cognitiveservices-knowledge-qnamaker\n",
    "# pip install azure-cognitiveservices-knowledge-qnamaker==0.2.0"
   ]
  },
  {
   "cell_type": "code",
   "execution_count": null,
   "metadata": {},
   "outputs": [],
   "source": [
    "import os\n",
    "import time\n",
    "\n",
    "from azure.cognitiveservices.knowledge.qnamaker.authoring import QnAMakerClient\n",
    "from azure.cognitiveservices.knowledge.qnamaker.runtime import QnAMakerRuntimeClient\n",
    "from azure.cognitiveservices.knowledge.qnamaker.authoring.models import QnADTO, MetadataDTO, CreateKbDTO, OperationStateType, UpdateKbOperationDTO, UpdateKbOperationDTOAdd, EndpointKeysDTO, QnADTOContext, PromptDTO\n",
    "from azure.cognitiveservices.knowledge.qnamaker.runtime.models import QueryDTO\n",
    "from msrest.authentication import CognitiveServicesCredentials"
   ]
  },
  {
   "cell_type": "code",
   "execution_count": null,
   "metadata": {},
   "outputs": [],
   "source": [
    "from dotenv import load_dotenv\n",
    "load_dotenv()\n"
   ]
  },
  {
   "cell_type": "code",
   "execution_count": null,
   "metadata": {},
   "outputs": [],
   "source": [
    "subscription_key = os.getenv(\"subscription_key\")\n",
    "authoring_endpoint = os.getenv(\"authoring_endpoint\")\n",
    "runtime_endpoint = os.getenv(\"runtime_endpoint\")"
   ]
  },
  {
   "cell_type": "code",
   "execution_count": null,
   "metadata": {},
   "outputs": [],
   "source": [
    "def _monitor_operation(client, operation):\n",
    "\n",
    "    for i in range(20):\n",
    "        if operation.operation_state in [OperationStateType.not_started, OperationStateType.running]:\n",
    "            print(\"Waiting for operation: {} to complete.\".format(operation.operation_id))\n",
    "            time.sleep(5)\n",
    "            operation = client.operations.get_details(operation_id=operation.operation_id)\n",
    "        else:\n",
    "            break\n",
    "    if operation.operation_state != OperationStateType.succeeded:\n",
    "        raise Exception(\"Operation {} failed to complete.\".format(operation.operation_id))\n",
    "\n",
    "    return operation"
   ]
  },
  {
   "cell_type": "code",
   "execution_count": null,
   "metadata": {},
   "outputs": [],
   "source": [
    "def create_kb(client):\n",
    "    print (\"Creating knowledge base...\")\n",
    "\n",
    "    qna1 = QnADTO(\n",
    "        answer=\"Yes, You can use our [REST APIs](https://docs.microsoft.com/rest/api/cognitiveservices/qnamaker/knowledgebase) to manage your knowledge base.\",\n",
    "        questions=[\"How do I manage my knowledgebase?\"],\n",
    "        metadata=[\n",
    "            MetadataDTO(name=\"Category\", value=\"api\"),\n",
    "            MetadataDTO(name=\"Language\", value=\"REST\"),\n",
    "        ]\n",
    "    )\n",
    "\n",
    "    qna2 = QnADTO(\n",
    "        answer=\"Yes, You can use our [Python SDK](https://pypi.org/project/azure-cognitiveservices-knowledge-qnamaker/) with the [Python Reference Docs](https://docs.microsoft.com/python/api/azure-cognitiveservices-knowledge-qnamaker/azure.cognitiveservices.knowledge.qnamaker?view=azure-python) to manage your knowledge base.\",\n",
    "        questions=[\"Can I program with Python?\"],\n",
    "        metadata=[\n",
    "            MetadataDTO(name=\"Category\", value=\"api\"),\n",
    "            MetadataDTO(name=\"Language\", value=\"Python\"),\n",
    "        ]\n",
    "    )\n",
    "\n",
    "    urls = []\n",
    "    files=[]\n",
    "\n",
    "    create_kb_dto = CreateKbDTO(\n",
    "        name=\"dwkim-client SDK-QnA Maker Python SDK Quickstart\",\n",
    "        qna_list=[\n",
    "            qna1,\n",
    "            qna2\n",
    "        ],\n",
    "        urls=urls,\n",
    "        files=[],\n",
    "        enable_hierarchical_extraction=True,\n",
    "        default_answer_used_for_extraction=\"No answer found.\",\n",
    "        language=\"English\"\n",
    "    )\n",
    "    create_op = client.knowledgebase.create(create_kb_payload=create_kb_dto)\n",
    "\n",
    "    create_op_monitor = _monitor_operation(client=client, operation=create_op)\n",
    "\n",
    "    # Get knowledge base ID from resourceLocation HTTP header\n",
    "    knowledge_base_ID = create_op_monitor.resource_location.replace(\"/knowledgebases/\", \"\")\n",
    "    print(\"Created KB with ID: {}\".format(knowledge_base_ID))\n",
    "\n",
    "    return knowledge_base_ID"
   ]
  },
  {
   "cell_type": "code",
   "execution_count": null,
   "metadata": {},
   "outputs": [],
   "source": [
    "def update_kb(client, kb_id):\n",
    "    print (\"Updating knowledge base...\")\n",
    "\n",
    "    qna3 = QnADTO(\n",
    "        answer=\"goodbye\",\n",
    "        questions=[\n",
    "            \"bye\",\n",
    "            \"end\",\n",
    "            \"stop\",\n",
    "            \"quit\",\n",
    "            \"done\"\n",
    "            ],\n",
    "        metadata=[\n",
    "            MetadataDTO(name=\"Category\", value=\"Chitchat\"),\n",
    "            MetadataDTO(name=\"Chitchat\", value=\"end\"),\n",
    "        ]\n",
    "    )\n",
    "\n",
    "    qna4 = QnADTO(\n",
    "        answer=\"Hello, please select from the list of questions or enter a new question to continue.\",\n",
    "        questions=[\n",
    "            \"hello\",\n",
    "            \"hi\",\n",
    "            \"start\"\n",
    "        ],\n",
    "        metadata=[\n",
    "            MetadataDTO(name=\"Category\", value=\"Chitchat\"),\n",
    "            MetadataDTO(name=\"Chitchat\", value=\"begin\"),\n",
    "        ],\n",
    "        context = QnADTOContext(\n",
    "\n",
    "            is_context_only = False,\n",
    "            prompts = [\n",
    "\n",
    "                PromptDTO(\n",
    "                    display_order =1,\n",
    "                    display_text= \"Use REST\",\n",
    "                    qna_id=1\n",
    "\n",
    "                ),\n",
    "                PromptDTO(\n",
    "                    display_order =2,\n",
    "                    display_text= \"Use .NET NuGet package\",\n",
    "                    qna_id=2\n",
    "                ),\n",
    "            ]\n",
    "        )\n",
    "\n",
    "    )\n",
    "\n",
    "    urls = [\n",
    "        \"https://docs.microsoft.com/azure/cognitive-services/QnAMaker/troubleshooting\"\n",
    "    ]\n",
    "\n",
    "\n",
    "\n",
    "    update_kb_operation_dto = UpdateKbOperationDTO(\n",
    "        add=UpdateKbOperationDTOAdd(\n",
    "            qna_list=[\n",
    "                qna3,\n",
    "                qna4\n",
    "            ],\n",
    "            urls = urls,\n",
    "            files=[]\n",
    "        ),\n",
    "        delete=None,\n",
    "        update=None\n",
    "    )\n",
    "    update_op = client.knowledgebase.update(kb_id=kb_id, update_kb=update_kb_operation_dto)\n",
    "    _monitor_operation(client=client, operation=update_op)\n",
    "    print(\"Updated knowledge base.\")"
   ]
  },
  {
   "cell_type": "code",
   "execution_count": null,
   "metadata": {},
   "outputs": [],
   "source": [
    "def download_kb(client, kb_id):\n",
    "    print(\"Downloading knowledge base...\")\n",
    "    kb_data = client.knowledgebase.download(kb_id=kb_id, environment=\"Prod\")\n",
    "    print(\"Downloaded knowledge base. It has {} QnAs.\".format(len(kb_data.qna_documents)))"
   ]
  },
  {
   "cell_type": "code",
   "execution_count": null,
   "metadata": {},
   "outputs": [],
   "source": [
    "def publish_kb(client, kb_id):\n",
    "    print(\"Publishing knowledge base...\")\n",
    "    client.knowledgebase.publish(kb_id=kb_id)\n",
    "    print(\"Published knowledge base.\")"
   ]
  },
  {
   "cell_type": "code",
   "execution_count": null,
   "metadata": {},
   "outputs": [],
   "source": [
    "def getEndpointKeys_kb(client):\n",
    "    print(\"Getting runtime endpoint keys...\")\n",
    "    keys = client.endpoint_keys.get_keys()\n",
    "    print(\"Primary runtime endpoint key: {}.\".format(keys.primary_endpoint_key))\n",
    "\n",
    "    return keys.primary_endpoint_key"
   ]
  },
  {
   "cell_type": "code",
   "execution_count": null,
   "metadata": {},
   "outputs": [],
   "source": [
    "def generate_answer(client, kb_id, runtimeKey):\n",
    "    print (\"Querying knowledge base...\")\n",
    "\n",
    "    authHeaderValue = \"EndpointKey \" + runtimeKey\n",
    "\n",
    "    listSearchResults = client.runtime.generate_answer(kb_id, QueryDTO(question = \"How do I manage my knowledgebase?\"), dict(Authorization=authHeaderValue))\n",
    "\n",
    "    for i in listSearchResults.answers:\n",
    "        print(f\"Answer ID: {i.id}.\")\n",
    "        print(f\"Answer: {i.answer}.\")\n",
    "        print(f\"Answer score: {i.score}.\")"
   ]
  },
  {
   "cell_type": "code",
   "execution_count": null,
   "metadata": {},
   "outputs": [],
   "source": [
    "# Authenticate the runtime for generating an answer\n",
    "client = QnAMakerClient(endpoint=authoring_endpoint, credentials=CognitiveServicesCredentials(subscription_key))"
   ]
  },
  {
   "cell_type": "code",
   "execution_count": null,
   "metadata": {},
   "outputs": [],
   "source": []
  },
  {
   "cell_type": "code",
   "execution_count": null,
   "metadata": {},
   "outputs": [],
   "source": [
    "kb_id = create_kb(client=client)\n"
   ]
  },
  {
   "cell_type": "code",
   "execution_count": null,
   "metadata": {},
   "outputs": [],
   "source": [
    "update_kb (client=client, kb_id=kb_id)\n"
   ]
  },
  {
   "cell_type": "code",
   "execution_count": null,
   "metadata": {},
   "outputs": [],
   "source": [
    "# max 2 published KB for free mode\n",
    "publish_kb (client=client, kb_id=kb_id)\n"
   ]
  },
  {
   "cell_type": "code",
   "execution_count": null,
   "metadata": {},
   "outputs": [],
   "source": [
    "download_kb (client=client, kb_id=kb_id)\n"
   ]
  },
  {
   "cell_type": "code",
   "execution_count": null,
   "metadata": {},
   "outputs": [],
   "source": [
    "queryRuntimeKey = getEndpointKeys_kb(client=client)"
   ]
  },
  {
   "cell_type": "code",
   "execution_count": null,
   "metadata": {},
   "outputs": [],
   "source": []
  }
 ]
}